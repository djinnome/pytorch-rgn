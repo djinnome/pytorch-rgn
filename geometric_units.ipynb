{
 "cells": [
  {
   "cell_type": "markdown",
   "metadata": {},
   "source": [
    "# Geometric Units\n",
    "\n",
    "This notebook is to validate that the geometric units are constructed correctly and can reproduce the 3D protein structure given ground truth bond lengths, bond angles and torsion angles."
   ]
  },
  {
   "cell_type": "code",
   "execution_count": 1,
   "metadata": {
    "ExecuteTime": {
     "end_time": "2018-10-08T23:47:32.463843Z",
     "start_time": "2018-10-08T23:47:27.972192Z"
    }
   },
   "outputs": [
    {
     "name": "stderr",
     "output_type": "stream",
     "text": [
      "Using TensorFlow backend.\n"
     ]
    }
   ],
   "source": [
    "import torch\n",
    "import torch.nn as nn\n",
    "import os\n",
    "import utils\n",
    "from model import pair_dist"
   ]
  },
  {
   "cell_type": "code",
   "execution_count": 2,
   "metadata": {
    "ExecuteTime": {
     "end_time": "2018-10-08T23:47:35.962804Z",
     "start_time": "2018-10-08T23:47:35.959486Z"
    }
   },
   "outputs": [],
   "source": [
    "data_path = os.curdir + '/data/'\n",
    "pdb_path = os.curdir + '/data/pdb/structures/'"
   ]
  },
  {
   "cell_type": "code",
   "execution_count": 3,
   "metadata": {
    "ExecuteTime": {
     "end_time": "2018-10-08T23:47:38.762869Z",
     "start_time": "2018-10-08T23:47:38.422918Z"
    }
   },
   "outputs": [
    {
     "ename": "FileNotFoundError",
     "evalue": "[Errno 2] No such file or directory: './data/proteins_1.bc/meta/sizes'",
     "output_type": "error",
     "traceback": [
      "\u001b[0;31m---------------------------------------------------------------------------\u001b[0m",
      "\u001b[0;31mFileNotFoundError\u001b[0m                         Traceback (most recent call last)",
      "\u001b[0;32m<ipython-input-3-b404e744ace6>\u001b[0m in \u001b[0;36m<module>\u001b[0;34m()\u001b[0m\n\u001b[1;32m      1\u001b[0m \u001b[0;31m#First find a pdb file with no missing coordinates\u001b[0m\u001b[0;34m\u001b[0m\u001b[0;34m\u001b[0m\u001b[0m\n\u001b[0;32m----> 2\u001b[0;31m \u001b[0mchain_1\u001b[0m \u001b[0;34m=\u001b[0m \u001b[0mutils\u001b[0m\u001b[0;34m.\u001b[0m\u001b[0mload_array\u001b[0m\u001b[0;34m(\u001b[0m\u001b[0mdata_path\u001b[0m\u001b[0;34m+\u001b[0m\u001b[0;34m'proteins_1.bc'\u001b[0m\u001b[0;34m)\u001b[0m\u001b[0;34m\u001b[0m\u001b[0m\n\u001b[0m",
      "\u001b[0;32m~/Projects/DL/DLQM/rogain/utils.py\u001b[0m in \u001b[0;36mload_array\u001b[0;34m(fname)\u001b[0m\n\u001b[1;32m    223\u001b[0m \u001b[0;34m\u001b[0m\u001b[0m\n\u001b[1;32m    224\u001b[0m \u001b[0;32mdef\u001b[0m \u001b[0mload_array\u001b[0m\u001b[0;34m(\u001b[0m\u001b[0mfname\u001b[0m\u001b[0;34m)\u001b[0m\u001b[0;34m:\u001b[0m\u001b[0;34m\u001b[0m\u001b[0m\n\u001b[0;32m--> 225\u001b[0;31m     \u001b[0;32mreturn\u001b[0m \u001b[0mbcolz\u001b[0m\u001b[0;34m.\u001b[0m\u001b[0mopen\u001b[0m\u001b[0;34m(\u001b[0m\u001b[0mfname\u001b[0m\u001b[0;34m)\u001b[0m\u001b[0;34m[\u001b[0m\u001b[0;34m:\u001b[0m\u001b[0;34m]\u001b[0m\u001b[0;34m\u001b[0m\u001b[0m\n\u001b[0m",
      "\u001b[0;32m~/.pyenv/versions/anaconda3-4.4.0/lib/python3.6/site-packages/bcolz/toplevel.py\u001b[0m in \u001b[0;36mopen\u001b[0;34m(rootdir, mode)\u001b[0m\n\u001b[1;32m    138\u001b[0m         \u001b[0;32mreturn\u001b[0m \u001b[0mbcolz\u001b[0m\u001b[0;34m.\u001b[0m\u001b[0mctable\u001b[0m\u001b[0;34m(\u001b[0m\u001b[0mrootdir\u001b[0m\u001b[0;34m=\u001b[0m\u001b[0mrootdir\u001b[0m\u001b[0;34m,\u001b[0m \u001b[0mmode\u001b[0m\u001b[0;34m=\u001b[0m\u001b[0mmode\u001b[0m\u001b[0;34m)\u001b[0m\u001b[0;34m\u001b[0m\u001b[0m\n\u001b[1;32m    139\u001b[0m     \u001b[0;32melse\u001b[0m\u001b[0;34m:\u001b[0m\u001b[0;34m\u001b[0m\u001b[0m\n\u001b[0;32m--> 140\u001b[0;31m         \u001b[0;32mreturn\u001b[0m \u001b[0mbcolz\u001b[0m\u001b[0;34m.\u001b[0m\u001b[0mcarray\u001b[0m\u001b[0;34m(\u001b[0m\u001b[0mrootdir\u001b[0m\u001b[0;34m=\u001b[0m\u001b[0mrootdir\u001b[0m\u001b[0;34m,\u001b[0m \u001b[0mmode\u001b[0m\u001b[0;34m=\u001b[0m\u001b[0mmode\u001b[0m\u001b[0;34m)\u001b[0m\u001b[0;34m\u001b[0m\u001b[0m\n\u001b[0m\u001b[1;32m    141\u001b[0m \u001b[0;34m\u001b[0m\u001b[0m\n\u001b[1;32m    142\u001b[0m \u001b[0;34m\u001b[0m\u001b[0m\n",
      "\u001b[0;32mbcolz/carray_ext.pyx\u001b[0m in \u001b[0;36mbcolz.carray_ext.carray.__cinit__\u001b[0;34m()\u001b[0m\n",
      "\u001b[0;32mbcolz/carray_ext.pyx\u001b[0m in \u001b[0;36mbcolz.carray_ext.carray._read_meta\u001b[0;34m()\u001b[0m\n",
      "\u001b[0;31mFileNotFoundError\u001b[0m: [Errno 2] No such file or directory: './data/proteins_1.bc/meta/sizes'"
     ]
    }
   ],
   "source": [
    "#First find a pdb file with no missing coordinates\n",
    "chain_1 = utils.load_array(data_path+'proteins_1.bc')"
   ]
  },
  {
   "cell_type": "markdown",
   "metadata": {},
   "source": [
    "I know that proteins 2 (1zur) and 19 (4a56) in chain_1, have no missing coordinates, so they're ideal candidates."
   ]
  },
  {
   "cell_type": "code",
   "execution_count": 16,
   "metadata": {},
   "outputs": [],
   "source": [
    "names = ['1zur.pdb', '4a56.pdb']\n",
    "t_angles, b_angles, b_len = torch.zeros((163, 2, 3)), torch.zeros((163, 2, 3)), torch.zeros((163, 2, 3))\n",
    "\n",
    "for ix, name in enumerate(names):\n",
    "    ta, ba, bl = utils.gt_dihedral_angles(pdb_path+name)\n",
    "    t_angles[:len(ta), ix] = ta\n",
    "    b_angles[:len(ba), ix] = ba\n",
    "    b_len[:len(bl), ix] = bl"
   ]
  },
  {
   "cell_type": "code",
   "execution_count": 17,
   "metadata": {},
   "outputs": [],
   "source": [
    "#get the coordinates of first three atoms (A,B,C) for the two test samples\n",
    "A1 = torch.tensor(chain_1[2][2][0], dtype=torch.float)\n",
    "A2 = torch.tensor(chain_1[19][2][0], dtype=torch.float)\n",
    "B1 = torch.tensor(chain_1[2][2][1], dtype=torch.float)\n",
    "B2 = torch.tensor(chain_1[19][2][1], dtype=torch.float)\n",
    "C1 = torch.tensor(chain_1[2][2][2], dtype=torch.float)\n",
    "C2 = torch.tensor(chain_1[19][2][2], dtype=torch.float)"
   ]
  },
  {
   "cell_type": "code",
   "execution_count": 18,
   "metadata": {},
   "outputs": [],
   "source": [
    "A = torch.stack([A1,A2], 0)\n",
    "B = torch.stack([B1,B2], 0)\n",
    "C = torch.stack([C1,C2], 0)\n",
    "pred_coords = torch.stack([A, B, C], 0)\n",
    "\n",
    "for ix, triplet in enumerate(t_angles):\n",
    "    for i in range(3):\n",
    "        #coordinates of last three atoms\n",
    "        A, B, C = pred_coords[-3], pred_coords[-2], pred_coords[-1]\n",
    "        #internal coordinates\n",
    "        T = b_angles[ix, :, i]\n",
    "        R = b_len[ix, :, i]\n",
    "        P = triplet[:, i]\n",
    "\n",
    "        #note the negative in the first term isn't referenced in the original paper\n",
    "        #it may have something to do with how BioPDB calculates angles\n",
    "        D2 = torch.stack([-R*torch.ones(P.size())*torch.cos(T), \n",
    "                          R*torch.cos(P)*torch.sin(T),\n",
    "                          R*torch.sin(P)*torch.sin(T)], dim=1)\n",
    "\n",
    "        #bsx3 one triplet for each sample in the batch\n",
    "        BC = C - B\n",
    "        bc = BC/torch.norm(BC, 2, dim=1, keepdim=True)\n",
    "\n",
    "        AB = B - A\n",
    "\n",
    "        N = torch.cross(AB, bc)\n",
    "        n = N/torch.norm(N, 2, dim=1, keepdim=True)\n",
    "\n",
    "        M = torch.stack([bc, torch.cross(n, bc), n], dim=2)\n",
    "\n",
    "        D = torch.bmm(M, D2.view(-1,3,1)).squeeze() + C\n",
    "        pred_coords = torch.cat([pred_coords, D.view(1,-1,3)])"
   ]
  },
  {
   "cell_type": "code",
   "execution_count": 19,
   "metadata": {},
   "outputs": [
    {
     "name": "stdout",
     "output_type": "stream",
     "text": [
      "tensor([[ 0.0000,  1.4874,  2.5037,  3.6471,  4.9417,  6.0591,  7.2858],\n",
      "        [ 1.4874,  0.0000,  1.5289,  2.4205,  3.8290,  4.7594,  6.0301],\n",
      "        [ 2.5037,  1.5289,  0.0000,  1.3304,  2.4853,  3.6839,  4.8436],\n",
      "        [ 3.6471,  2.4205,  1.3304,  0.0000,  1.4620,  2.4165,  3.6473],\n",
      "        [ 4.9417,  3.8290,  2.4853,  1.4620,  0.0000,  1.5286,  2.4434],\n",
      "        [ 6.0591,  4.7594,  3.6839,  2.4165,  1.5286,  0.0000,  1.3305],\n",
      "        [ 7.2858,  6.0301,  4.8436,  3.6473,  2.4434,  1.3305,  0.0000]])\n",
      "tensor([[ 0.0000,  1.4875,  2.5037,  3.6471,  4.9417,  6.0591,  7.2858],\n",
      "        [ 1.4875,  0.0000,  1.5288,  2.4205,  3.8289,  4.7595,  6.0301],\n",
      "        [ 2.5037,  1.5288,  0.0000,  1.3304,  2.4853,  3.6839,  4.8436],\n",
      "        [ 3.6471,  2.4205,  1.3304,  0.0000,  1.4620,  2.4165,  3.6473],\n",
      "        [ 4.9417,  3.8289,  2.4853,  1.4620,  0.0000,  1.5286,  2.4434],\n",
      "        [ 6.0591,  4.7595,  3.6839,  2.4165,  1.5286,  0.0000,  1.3305],\n",
      "        [ 7.2858,  6.0301,  4.8436,  3.6473,  2.4434,  1.3305,  0.0000]], dtype=torch.float64)\n"
     ]
    }
   ],
   "source": [
    "#evaluate on 1zur\n",
    "gt_coords = torch.tensor(chain_1[2][2])\n",
    "print(pair_dist(pred_coords[:, 0])[:7, :7])\n",
    "print(pair_dist(gt_coords)[:7, :7])"
   ]
  },
  {
   "cell_type": "code",
   "execution_count": 20,
   "metadata": {},
   "outputs": [
    {
     "name": "stdout",
     "output_type": "stream",
     "text": [
      "tensor([[ 0.0000,  1.4995,  2.4238,  3.4181,  4.6396,  5.4634,  6.4754],\n",
      "        [ 1.4995,  0.0000,  1.5253,  2.4579,  3.8404,  4.4748,  5.6402],\n",
      "        [ 2.4238,  1.5253,  0.0000,  1.3442,  2.4518,  3.0594,  4.1571],\n",
      "        [ 3.4181,  2.4579,  1.3442,  0.0000,  1.4801,  2.4726,  3.6662],\n",
      "        [ 4.6396,  3.8404,  2.4518,  1.4801,  0.0000,  1.5339,  2.4456],\n",
      "        [ 5.4634,  4.4748,  3.0594,  2.4726,  1.5339,  0.0000,  1.3372],\n",
      "        [ 6.4754,  5.6402,  4.1571,  3.6662,  2.4456,  1.3372,  0.0000]])\n",
      "tensor([[ 0.0000,  1.4995,  2.4238,  3.4181,  4.6396,  5.4634,  6.4754],\n",
      "        [ 1.4995,  0.0000,  1.5253,  2.4579,  3.8404,  4.4748,  5.6402],\n",
      "        [ 2.4238,  1.5253,  0.0000,  1.3442,  2.4518,  3.0594,  4.1571],\n",
      "        [ 3.4181,  2.4579,  1.3442,  0.0000,  1.4801,  2.4726,  3.6662],\n",
      "        [ 4.6396,  3.8404,  2.4518,  1.4801,  0.0000,  1.5339,  2.4456],\n",
      "        [ 5.4634,  4.4748,  3.0594,  2.4726,  1.5339,  0.0000,  1.3372],\n",
      "        [ 6.4754,  5.6402,  4.1571,  3.6662,  2.4456,  1.3372,  0.0000]], dtype=torch.float64)\n"
     ]
    }
   ],
   "source": [
    "#evaluate on 4a56\n",
    "gt_coords = torch.tensor(chain_1[19][2])\n",
    "print(pair_dist(pred_coords[:, 1])[:7, :7])\n",
    "print(pair_dist(gt_coords)[:7, :7])"
   ]
  }
 ],
 "metadata": {
  "kernelspec": {
   "display_name": "anaconda3-4.4.0",
   "language": "python",
   "name": "anaconda3-4.4.0"
  },
  "language_info": {
   "codemirror_mode": {
    "name": "ipython",
    "version": 3
   },
   "file_extension": ".py",
   "mimetype": "text/x-python",
   "name": "python",
   "nbconvert_exporter": "python",
   "pygments_lexer": "ipython3",
   "version": "3.6.5"
  },
  "toc": {
   "colors": {
    "hover_highlight": "#DAA520",
    "navigate_num": "#000000",
    "navigate_text": "#333333",
    "running_highlight": "#FF0000",
    "selected_highlight": "#FFD700",
    "sidebar_border": "#EEEEEE",
    "wrapper_background": "#FFFFFF"
   },
   "moveMenuLeft": true,
   "nav_menu": {
    "height": "30px",
    "width": "252px"
   },
   "navigate_menu": true,
   "number_sections": true,
   "sideBar": true,
   "threshold": 4,
   "toc_cell": false,
   "toc_section_display": "block",
   "toc_window_display": false,
   "widenNotebook": false
  },
  "varInspector": {
   "cols": {
    "lenName": 16,
    "lenType": 16,
    "lenVar": 40
   },
   "kernels_config": {
    "python": {
     "delete_cmd_postfix": "",
     "delete_cmd_prefix": "del ",
     "library": "var_list.py",
     "varRefreshCmd": "print(var_dic_list())"
    },
    "r": {
     "delete_cmd_postfix": ") ",
     "delete_cmd_prefix": "rm(",
     "library": "var_list.r",
     "varRefreshCmd": "cat(var_dic_list()) "
    }
   },
   "types_to_exclude": [
    "module",
    "function",
    "builtin_function_or_method",
    "instance",
    "_Feature"
   ],
   "window_display": false
  }
 },
 "nbformat": 4,
 "nbformat_minor": 2
}
