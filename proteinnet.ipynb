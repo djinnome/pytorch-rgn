{
 "cells": [
  {
   "cell_type": "code",
   "execution_count": 1,
   "metadata": {
    "ExecuteTime": {
     "end_time": "2018-10-08T23:48:59.954778Z",
     "start_time": "2018-10-08T23:48:59.042424Z"
    }
   },
   "outputs": [],
   "source": [
    "import os\n",
    "import numpy as np\n",
    "from io import BytesIO\n",
    "from tqdm import tqdm\n",
    "import bcolz"
   ]
  },
  {
   "cell_type": "code",
   "execution_count": 4,
   "metadata": {
    "ExecuteTime": {
     "end_time": "2018-10-09T01:54:59.730597Z",
     "start_time": "2018-10-09T01:54:59.715780Z"
    }
   },
   "outputs": [],
   "source": [
    "pn_path = os.curdir + '/data/proteinnet/casp11/'\n",
    "data_path = os.curdir + '/data/'"
   ]
  },
  {
   "cell_type": "code",
   "execution_count": 7,
   "metadata": {
    "ExecuteTime": {
     "end_time": "2018-10-09T01:55:42.621924Z",
     "start_time": "2018-10-09T01:55:42.535280Z"
    }
   },
   "outputs": [
    {
     "ename": "ValueError",
     "evalue": "Must have exactly one of create/read/write/append mode and at most one plus",
     "output_type": "error",
     "traceback": [
      "\u001b[0;31m---------------------------------------------------------------------------\u001b[0m",
      "\u001b[0;31mValueError\u001b[0m                                Traceback (most recent call last)",
      "\u001b[0;32m<ipython-input-7-5b11457a692c>\u001b[0m in \u001b[0;36m<module>\u001b[0;34m()\u001b[0m\n\u001b[1;32m      5\u001b[0m \u001b[0mmasks\u001b[0m \u001b[0;34m=\u001b[0m \u001b[0;34m[\u001b[0m\u001b[0;34m'init'\u001b[0m\u001b[0;34m,\u001b[0m \u001b[0;34m'/n'\u001b[0m\u001b[0;34m]\u001b[0m\u001b[0;34m\u001b[0m\u001b[0m\n\u001b[1;32m      6\u001b[0m \u001b[0mid_next\u001b[0m\u001b[0;34m,\u001b[0m \u001b[0mpri_next\u001b[0m\u001b[0;34m,\u001b[0m \u001b[0mev_next\u001b[0m\u001b[0;34m,\u001b[0m \u001b[0mter_next\u001b[0m\u001b[0;34m,\u001b[0m \u001b[0mmsk_next\u001b[0m \u001b[0;34m=\u001b[0m \u001b[0;32mFalse\u001b[0m\u001b[0;34m,\u001b[0m \u001b[0;32mFalse\u001b[0m\u001b[0;34m,\u001b[0m \u001b[0;32mFalse\u001b[0m\u001b[0;34m,\u001b[0m \u001b[0;32mFalse\u001b[0m\u001b[0;34m,\u001b[0m \u001b[0;32mFalse\u001b[0m\u001b[0;34m\u001b[0m\u001b[0m\n\u001b[0;32m----> 7\u001b[0;31m \u001b[0;32mwith\u001b[0m \u001b[0mopen\u001b[0m\u001b[0;34m(\u001b[0m\u001b[0mpn_path\u001b[0m\u001b[0;34m+\u001b[0m\u001b[0;34m'testing/1'\u001b[0m\u001b[0;34m,\u001b[0m\u001b[0;34m'b'\u001b[0m\u001b[0;34m)\u001b[0m \u001b[0;32mas\u001b[0m \u001b[0mfp\u001b[0m\u001b[0;34m:\u001b[0m\u001b[0;34m\u001b[0m\u001b[0m\n\u001b[0m\u001b[1;32m      8\u001b[0m     \u001b[0;32mfor\u001b[0m \u001b[0mline\u001b[0m \u001b[0;32min\u001b[0m \u001b[0mtqdm\u001b[0m\u001b[0;34m(\u001b[0m\u001b[0miter\u001b[0m\u001b[0;34m(\u001b[0m\u001b[0mfp\u001b[0m\u001b[0;34m.\u001b[0m\u001b[0mreadline\u001b[0m\u001b[0;34m,\u001b[0m \u001b[0;34m''\u001b[0m\u001b[0;34m)\u001b[0m\u001b[0;34m)\u001b[0m\u001b[0;34m:\u001b[0m\u001b[0;34m\u001b[0m\u001b[0m\n\u001b[1;32m      9\u001b[0m         \u001b[0;32mif\u001b[0m \u001b[0mid_next\u001b[0m\u001b[0;34m:\u001b[0m \u001b[0mids\u001b[0m\u001b[0;34m.\u001b[0m\u001b[0mappend\u001b[0m\u001b[0;34m(\u001b[0m\u001b[0mline\u001b[0m\u001b[0;34m[\u001b[0m\u001b[0;34m:\u001b[0m\u001b[0;34m-\u001b[0m\u001b[0;36m1\u001b[0m\u001b[0;34m]\u001b[0m\u001b[0;34m)\u001b[0m\u001b[0;34m\u001b[0m\u001b[0m\n",
      "\u001b[0;31mValueError\u001b[0m: Must have exactly one of create/read/write/append mode and at most one plus"
     ]
    }
   ],
   "source": [
    "ids = []\n",
    "seqs = []\n",
    "evs = []\n",
    "coords = []\n",
    "masks = ['init', '/n']\n",
    "id_next, pri_next, ev_next, ter_next, msk_next = False, False, False, False, False\n",
    "with open(pn_path+'testing/1') as fp:\n",
    "    for line in tqdm(iter(fp.readline, '')):\n",
    "        if id_next: ids.append(line[:-1])\n",
    "        elif pri_next: seqs.append(line[:-1])\n",
    "        elif ev_next: evs.append(np.genfromtxt(BytesIO(line)))\n",
    "        elif ter_next: coords.append(np.genfromtxt(BytesIO(line)))\n",
    "        elif msk_next: masks.append(line[:-1])\n",
    "        \n",
    "        if np.core.defchararray.find(line, \"[ID]\", end=5) != -1:\n",
    "            id_next = True\n",
    "            masks.pop()\n",
    "            masks.pop()\n",
    "            pri_next, ev_next, ter_next, msk_next = False, False, False, False\n",
    "        elif np.core.defchararray.find(line, \"[PRIMARY]\", end=10) != -1:\n",
    "            pri_next = True\n",
    "            ids.pop()\n",
    "            id_next, ev_next, ter_next, msk_next = False, False, False, False\n",
    "        elif np.core.defchararray.find(line, \"[EVOLUTIONARY]\", end=15) != -1:\n",
    "            ev_next = True\n",
    "            seqs.pop()\n",
    "            id_next, pri_next, ter_next, msk_next = False, False, False, False\n",
    "        elif np.core.defchararray.find(line, \"[TERTIARY]\", end=11) != -1:\n",
    "            ter_next = True\n",
    "            evs.pop()\n",
    "            id_next, pri_next, ev_next, msk_next = False, False, False, False\n",
    "        elif np.core.defchararray.find(line, \"[MASK]\", end=7) != -1:\n",
    "            msk_next = True\n",
    "            coords.pop()\n",
    "            id_next, pri_next, ev_next, ter_next = False, False, False, False"
   ]
  },
  {
   "cell_type": "code",
   "execution_count": 260,
   "metadata": {},
   "outputs": [
    {
     "name": "stdout",
     "output_type": "stream",
     "text": [
      "# IDs: 81\n",
      "# Seqs: 81\n",
      "# PSSMs: 1701\n",
      "# Coords: 243\n",
      "# Masks: 81\n"
     ]
    }
   ],
   "source": [
    "print('# IDs: {}'.format(len(ids)))\n",
    "print('# Seqs: {}'.format(len(seqs)))\n",
    "print('# PSSMs: {}'.format(len(evs)))\n",
    "print('# Coords: {}'.format(len(coords)))\n",
    "print('# Masks: {}'.format(len(masks[:-1]))) #-1 because of blank line at end of file"
   ]
  },
  {
   "cell_type": "code",
   "execution_count": 261,
   "metadata": {},
   "outputs": [],
   "source": [
    "pssm = evs\n",
    "xyz = coords"
   ]
  },
  {
   "cell_type": "code",
   "execution_count": 262,
   "metadata": {},
   "outputs": [],
   "source": [
    "#loop through each evolutionary section\n",
    "for i in range(len(ids)):\n",
    "    #first store the id and sequence\n",
    "    id = ids[i]\n",
    "    seq = seqs[i]\n",
    "    \n",
    "    #next get the PSSM matrix for the sequence\n",
    "    sp = 21*i\n",
    "    ep = 21*(i+1)\n",
    "    psi = np.array(pssm[sp:ep])\n",
    "    pssmi = np.stack([p for p in psi], axis=1)\n",
    "    \n",
    "    #then get the coordinates\n",
    "    sx = 3*i\n",
    "    ex = 3*(i+1)\n",
    "    xi = np.array(xyz[sx:ex])\n",
    "    xyzi = np.stack([c for c in xi], axis=1)/100 #have to scale by 100 to match PDB\n",
    "    \n",
    "    #lastly convert the mask to indices\n",
    "    msk_idx = np.where(np.array(list(masks[i])) == '+')[0]\n",
    "    \n",
    "    #bracket id or get \"setting an array element with a sequence\"\n",
    "    zt = np.array([[id], seq, pssmi, xyzi, msk_idx])\n",
    "    \n",
    "    if i == 0:\n",
    "        bc = bcolz.carray([zt], rootdir=data_path+'testing.bc', mode='w', expectedlen=len(ids))\n",
    "        bc.flush()\n",
    "    else:\n",
    "        bc = bcolz.carray(rootdir=data_path+'testing.bc', mode='w')\n",
    "        bc.append([zt])\n",
    "        bc.flush()"
   ]
  },
  {
   "cell_type": "code",
   "execution_count": 268,
   "metadata": {},
   "outputs": [],
   "source": [
    "#bcolz.open(rootdir=data_path+'testing.bc')"
   ]
  }
 ],
 "metadata": {
  "kernelspec": {
   "display_name": "anaconda3-4.4.0",
   "language": "python",
   "name": "anaconda3-4.4.0"
  },
  "language_info": {
   "codemirror_mode": {
    "name": "ipython",
    "version": 3
   },
   "file_extension": ".py",
   "mimetype": "text/x-python",
   "name": "python",
   "nbconvert_exporter": "python",
   "pygments_lexer": "ipython3",
   "version": "3.6.5"
  },
  "toc": {
   "colors": {
    "hover_highlight": "#DAA520",
    "navigate_num": "#000000",
    "navigate_text": "#333333",
    "running_highlight": "#FF0000",
    "selected_highlight": "#FFD700",
    "sidebar_border": "#EEEEEE",
    "wrapper_background": "#FFFFFF"
   },
   "moveMenuLeft": true,
   "nav_menu": {
    "height": "12px",
    "width": "252px"
   },
   "navigate_menu": true,
   "number_sections": true,
   "sideBar": true,
   "threshold": 4,
   "toc_cell": false,
   "toc_section_display": "block",
   "toc_window_display": false,
   "widenNotebook": false
  },
  "varInspector": {
   "cols": {
    "lenName": 16,
    "lenType": 16,
    "lenVar": 40
   },
   "kernels_config": {
    "python": {
     "delete_cmd_postfix": "",
     "delete_cmd_prefix": "del ",
     "library": "var_list.py",
     "varRefreshCmd": "print(var_dic_list())"
    },
    "r": {
     "delete_cmd_postfix": ") ",
     "delete_cmd_prefix": "rm(",
     "library": "var_list.r",
     "varRefreshCmd": "cat(var_dic_list()) "
    }
   },
   "types_to_exclude": [
    "module",
    "function",
    "builtin_function_or_method",
    "instance",
    "_Feature"
   ],
   "window_display": false
  }
 },
 "nbformat": 4,
 "nbformat_minor": 2
}
